{
 "cells": [
  {
   "cell_type": "markdown",
   "metadata": {},
   "source": [
    "### Dataset repositories\n",
    "\n",
    "Data used for this section is from following sources:\n",
    "\n",
    "* [Carnegie Mellon University - School of Computer Science](https://www.cs.cmu.edu/~enron/)\n",
    "\n",
    "\n",
    "\n",
    "### Datasets are as follows:\n",
    "\n",
    "#### Text Mining(Sentiment Analysis)\n",
    "   * [Enron Email Dataset](https://www.cs.cmu.edu/~enron/enron_mail_20150507.tar.gz)   \n",
    "\n",
    "#### Graph Mining\n",
    "   * [Enron Email Dataset](https://www.cs.cmu.edu/~enron/enron_mail_20150507.tar.gz)\n",
    "   \n",
    "#### Preprocessing:\n",
    "    * Extracting the metadata and the email payload(actual message) for each email\n",
    "    * Building a nltk corpus with the messages\n",
    "    * Creating the enron employees communication(via email messages) graph\n",
    "   \n",
    "   \n",
    "#### Algorithms, Tools, Resources:\n",
    "   * [Vader](https://github.com/cjhutto/vaderSentiment)\n",
    "   * [Wit-ai Projects](https://github.com/wit-ai)\n",
    "   * [Facebook Duckling](https://github.com/facebook/duckling)\n",
    "   * [Graph-Tool](https://graph-tool.skewed.de)\n",
    "   * [Building an Inverted Index](http://nlpforhackers.io/building-a-simple-inverted-index-using-nltk/)\n",
    "   * [Elasticsearch Examples](https://github.com/elastic/examples)\n",
    "   * [Apache Lucene](https://lucene.apache.org/core/)\n",
    "   * [WordCloud](https://github.com/amueller/word_cloud)\n",
    "   * [Hazm](http://www.sobhe.ir/hazm/)\n",
    "   * [NetworKit](https://networkit.iti.kit.edu)\n",
    "   * [SNAP Py(Stanford SNAP)](https://snap.stanford.edu/snappy/)\n",
    "\n",
    "### Jupyter notebook files:\n",
    "   * [Preprocessing](preprocessing.ipynb)\n",
    "   * [Sentiment Analysis](sentiment-analysis.ipynb)\n",
    "   * [Community Detection](community-detection.ipynb)\n",
    "\n",
    "   \n",
    "### Python3 package installation:\n",
    "  * conda install -c https://conda.anaconda.org/amueller wordcloud\n",
    "  * conda install nltk twython\n",
    "  * conda install pandas numpy scipy\n",
    "  * conda install -c conda-forge networkx"
   ]
  }
 ],
 "metadata": {
  "kernelspec": {
   "display_name": "Python 3",
   "language": "python",
   "name": "python3"
  },
  "language_info": {
   "codemirror_mode": {
    "name": "ipython",
    "version": 3
   },
   "file_extension": ".py",
   "mimetype": "text/x-python",
   "name": "python",
   "nbconvert_exporter": "python",
   "pygments_lexer": "ipython3",
   "version": "3.6.3"
  }
 },
 "nbformat": 4,
 "nbformat_minor": 2
}

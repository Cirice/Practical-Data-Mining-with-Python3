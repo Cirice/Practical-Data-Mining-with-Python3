{
 "cells": [
  {
   "cell_type": "markdown",
   "metadata": {},
   "source": [
    "## Dataset repositories\n",
    "\n",
    "Data used for this section are from following sources:\n",
    "\n",
    "[UCI MLP](http://archive.ics.uci.edu/ml/datasets.html)\n",
    "\n",
    "\n",
    "## Datasets are as follows:\n",
    "\n",
    "#### Regression Dataset\n",
    "   * [Appliances Energy Prediction Dataset](http://archive.ics.uci.edu/ml/datasets/Appliances+energy+prediction)\n",
    "   * [Appliances Energy Prediction (Github repo)](https://github.com/LuisM78/Appliances-energy-prediction-data)\n",
    "   \n",
    "#### Classification Dataset\n",
    "   * [Chronic Kidney Disease](http://archive.ics.uci.edu/ml/datasets/Chronic_Kidney_Disease)\n",
    "    \n",
    "#### Clustering Dataset\n",
    "   * [Sales Transactions Dataset Weekly](http://archive.ics.uci.edu/ml/datasets/Sales_Transactions_Dataset_Weekly)\n",
    "   \n",
    "\n",
    "### Jupyter notebook files:\n",
    "   * [Regression](regression.ipynb)\n",
    "   * [Classification](classification.ipynb)\n",
    "   * [Clustering](clustering.ipynb)"
   ]
  }
 ],
 "metadata": {
  "kernelspec": {
   "display_name": "Python 3",
   "language": "python",
   "name": "python3"
  },
  "language_info": {
   "codemirror_mode": {
    "name": "ipython",
    "version": 3
   },
   "file_extension": ".py",
   "mimetype": "text/x-python",
   "name": "python",
   "nbconvert_exporter": "python",
   "pygments_lexer": "ipython3",
   "version": "3.6.3"
  }
 },
 "nbformat": 4,
 "nbformat_minor": 2
}

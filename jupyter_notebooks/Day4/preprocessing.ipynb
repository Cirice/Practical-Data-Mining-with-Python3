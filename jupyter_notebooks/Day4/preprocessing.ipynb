{
 "cells": [
  {
   "cell_type": "code",
   "execution_count": 3,
   "metadata": {
    "scrolled": true
   },
   "outputs": [],
   "source": [
    "# load a few useful libs\n",
    "import tarfile\n",
    "import gc\n",
    "import email\n",
    "import json\n",
    "import re\n",
    "import io\n",
    "import os\n",
    "import glob\n",
    "import pandas"
   ]
  },
  {
   "cell_type": "code",
   "execution_count": 4,
   "metadata": {
    "scrolled": true
   },
   "outputs": [],
   "source": [
    "message_save_dir = \"./datasets/processed/messages/\"\n",
    "metadata_save_dir = \"./datasets/processed/metadata/\""
   ]
  },
  {
   "cell_type": "markdown",
   "metadata": {},
   "source": [
    "# Warning: Next cell may take too much time to be run!"
   ]
  },
  {
   "cell_type": "code",
   "execution_count": null,
   "metadata": {
    "scrolled": false
   },
   "outputs": [],
   "source": [
    "# let's iterate over the dataset file without opening it up on the file system\n",
    "\n",
    "counter = 0\n",
    "with tarfile.open(\"./datasets/sample_enron_mail_20150507.tar.gz\") as dataset_file:\n",
    "    for file in dataset_file.getmembers():\n",
    "        try:\n",
    "            file_content = dataset_file.extractfile(file).read()\n",
    "            parsed_message = email.message_from_string(file_content.decode(\"utf-8\"))\n",
    "            metadata = dict(parsed_message.items())\n",
    "            print(metadata['To'])\n",
    "            metadata['To'] = re.sub(r'[\\n\\r\\t ]+', '', metadata['To']).split(\",\")\n",
    "            print(metadata['To'])\n",
    "            message = parsed_message.get_payload()\n",
    "            \n",
    "            # write out the message\n",
    "            with io.open(os.path.join(message_save_dir, metadata['Message-ID']+\".txt\"), \"w\") as message_datafile:\n",
    "                message_datafile.write(message)\n",
    "            \n",
    "             # write out the message metadata(as json)\n",
    "            with io.open(os.path.join(metadata_save_dir, metadata['Message-ID']+\".json\"), \"w\") as metadata_file:\n",
    "                json.dump(metadata, metadata_file)\n",
    "                \n",
    "            #print(str(counter) + \" \" + file.name + \" processed!\")\n",
    "            \n",
    "        except Exception as error:\n",
    "            print(error)\n",
    "        finally:\n",
    "            counter += 1\n",
    "            \n",
    "# let gc!\n",
    "gc.collect()"
   ]
  },
  {
   "cell_type": "markdown",
   "metadata": {},
   "source": [
    "# Warning: Run next cell just once!"
   ]
  },
  {
   "cell_type": "code",
   "execution_count": 7,
   "metadata": {
    "scrolled": true
   },
   "outputs": [],
   "source": [
    "# don't run this cell multiple times\n",
    "metadata_files = glob.glob(os.path.join(metadata_save_dir, \"*.json\"))"
   ]
  },
  {
   "cell_type": "code",
   "execution_count": 12,
   "metadata": {
    "scrolled": true
   },
   "outputs": [
    {
     "name": "stdout",
     "output_type": "stream",
     "text": [
      "./datasets/processed/metadata/<14334439.1075853798834.JavaMail.evans@thyme>.json\n",
      "./datasets/processed/metadata/<15336750.1075842783088.JavaMail.evans@thyme>.json\n",
      "./datasets/processed/metadata/<28459290.1075862331133.JavaMail.evans@thyme>.json\n",
      "./datasets/processed/metadata/<24352658.1075844263182.JavaMail.evans@thyme>.json\n",
      "./datasets/processed/metadata/<23832863.1075849650001.JavaMail.evans@thyme>.json\n",
      "./datasets/processed/metadata/<26261130.1075841969911.JavaMail.evans@thyme>.json\n",
      "./datasets/processed/metadata/<23492487.1075860517873.JavaMail.evans@thyme>.json\n",
      "./datasets/processed/metadata/<767522.1075847211999.JavaMail.evans@thyme>.json\n",
      "./datasets/processed/metadata/<10004.1075857920365.JavaMail.evans@thyme>.json\n",
      "./datasets/processed/metadata/<9580800.1075857796783.JavaMail.evans@thyme>.json\n",
      "./datasets/processed/metadata/<20903400.1075860953063.JavaMail.evans@thyme>.json\n",
      "./datasets/processed/metadata/<6676511.1075845203578.JavaMail.evans@thyme>.json\n",
      "./datasets/processed/metadata/<7042141.1075852922095.JavaMail.evans@thyme>.json\n",
      "./datasets/processed/metadata/<25390699.1075851721794.JavaMail.evans@thyme>.json\n",
      "./datasets/processed/metadata/<11237363.1075860968443.JavaMail.evans@thyme>.json\n",
      "./datasets/processed/metadata/<26048673.1075854408878.JavaMail.evans@thyme>.json\n",
      "./datasets/processed/metadata/<11941134.1075845966235.JavaMail.evans@thyme>.json\n",
      "./datasets/processed/metadata/<7007816.1075853271877.JavaMail.evans@thyme>.json\n",
      "./datasets/processed/metadata/<16615056.1075851572647.JavaMail.evans@thyme>.json\n",
      "./datasets/processed/metadata/<30241639.1075860256808.JavaMail.evans@thyme>.json\n",
      "./datasets/processed/metadata/<3649306.1075842926506.JavaMail.evans@thyme>.json\n",
      "./datasets/processed/metadata/<11108727.1075863235316.JavaMail.evans@thyme>.json\n",
      "./datasets/processed/metadata/<16186004.1075859978694.JavaMail.evans@thyme>.json\n",
      "./datasets/processed/metadata/<2383834.1075846015553.JavaMail.evans@thyme>.json\n",
      "./datasets/processed/metadata/<14205834.1075845540000.JavaMail.evans@thyme>.json\n",
      "./datasets/processed/metadata/<18588003.1075847176093.JavaMail.evans@thyme>.json\n",
      "./datasets/processed/metadata/<2339438.1075855111335.JavaMail.evans@thyme>.json\n",
      "./datasets/processed/metadata/<17164124.1075861836425.JavaMail.evans@thyme>.json\n",
      "./datasets/processed/metadata/<25871224.1075845340463.JavaMail.evans@thyme>.json\n",
      "./datasets/processed/metadata/<29755362.1075852519111.JavaMail.evans@thyme>.json\n",
      "./datasets/processed/metadata/<14590049.1075857890411.JavaMail.evans@thyme>.json\n",
      "./datasets/processed/metadata/<7373688.1075858445635.JavaMail.evans@thyme>.json\n",
      "./datasets/processed/metadata/<32653441.1075848185790.JavaMail.evans@thyme>.json\n",
      "./datasets/processed/metadata/<15530876.1075855899557.JavaMail.evans@thyme>.json\n",
      "./datasets/processed/metadata/<3321510.1075844101445.JavaMail.evans@thyme>.json\n",
      "./datasets/processed/metadata/<20325026.1075857091585.JavaMail.evans@thyme>.json\n",
      "./datasets/processed/metadata/<14071821.1075841539234.JavaMail.evans@thyme>.json\n",
      "./datasets/processed/metadata/<25109157.1075843357185.JavaMail.evans@thyme>.json\n",
      "./datasets/processed/metadata/<12144433.1075848327871.JavaMail.evans@thyme>.json\n",
      "./datasets/processed/metadata/<25554080.1075861253448.JavaMail.evans@thyme>.json\n",
      "./datasets/processed/metadata/<29231342.1075844234030.JavaMail.evans@thyme>.json\n",
      "./datasets/processed/metadata/<9344491.1075844295307.JavaMail.evans@thyme>.json\n",
      "./datasets/processed/metadata/<3382745.1075840811459.JavaMail.evans@thyme>.json\n",
      "./datasets/processed/metadata/<11104364.1075858718097.JavaMail.evans@thyme>.json\n",
      "./datasets/processed/metadata/<28293621.1075853266038.JavaMail.evans@thyme>.json\n",
      "./datasets/processed/metadata/<1153363.1075843020029.JavaMail.evans@thyme>.json\n",
      "./datasets/processed/metadata/<6070988.1075852038532.JavaMail.evans@thyme>.json\n",
      "./datasets/processed/metadata/<7511066.1075855114125.JavaMail.evans@thyme>.json\n",
      "./datasets/processed/metadata/<18327457.1075852857606.JavaMail.evans@thyme>.json\n",
      "./datasets/processed/metadata/<12518766.1075853090439.JavaMail.evans@thyme>.json\n",
      "./datasets/processed/metadata/<2033308.1075843983019.JavaMail.evans@thyme>.json\n",
      "./datasets/processed/metadata/<7333262.1075857829864.JavaMail.evans@thyme>.json\n",
      "./datasets/processed/metadata/<25136807.1075847118511.JavaMail.evans@thyme>.json\n",
      "./datasets/processed/metadata/<14605381.1075847613020.JavaMail.evans@thyme>.json\n",
      "./datasets/processed/metadata/<21628615.1075856276507.JavaMail.evans@thyme>.json\n",
      "./datasets/processed/metadata/<22635405.1075848211135.JavaMail.evans@thyme>.json\n",
      "./datasets/processed/metadata/<32597345.1075842558060.JavaMail.evans@thyme>.json\n",
      "./datasets/processed/metadata/<30818556.1075852537692.JavaMail.evans@thyme>.json\n",
      "./datasets/processed/metadata/<31984382.1075846024760.JavaMail.evans@thyme>.json\n",
      "./datasets/processed/metadata/<7589490.1075855419417.JavaMail.evans@thyme>.json\n",
      "./datasets/processed/metadata/<19480127.1075844531028.JavaMail.evans@thyme>.json\n",
      "./datasets/processed/metadata/<23971584.1075844221350.JavaMail.evans@thyme>.json\n",
      "./datasets/processed/metadata/<663537.1075858138998.JavaMail.evans@thyme>.json\n",
      "./datasets/processed/metadata/<21466640.1075840818216.JavaMail.evans@thyme>.json\n",
      "./datasets/processed/metadata/<13059971.1075843842857.JavaMail.evans@thyme>.json\n",
      "./datasets/processed/metadata/<3326416.1075843486627.JavaMail.evans@thyme>.json\n",
      "./datasets/processed/metadata/<15080836.1075841652407.JavaMail.evans@thyme>.json\n",
      "./datasets/processed/metadata/<676358.1075846235533.JavaMail.evans@thyme>.json\n",
      "./datasets/processed/metadata/<1277318.1075853807715.JavaMail.evans@thyme>.json\n",
      "./datasets/processed/metadata/<19197613.1075859684106.JavaMail.evans@thyme>.json\n",
      "./datasets/processed/metadata/<24205122.1075842757905.JavaMail.evans@thyme>.json\n",
      "./datasets/processed/metadata/<3606526.1075854055769.JavaMail.evans@thyme>.json\n",
      "./datasets/processed/metadata/<13445612.1075841480611.JavaMail.evans@thyme>.json\n",
      "./datasets/processed/metadata/<11383909.1075857910306.JavaMail.evans@thyme>.json\n",
      "./datasets/processed/metadata/<12788388.1075843704124.JavaMail.evans@thyme>.json\n",
      "./datasets/processed/metadata/<24228417.1075855865147.JavaMail.evans@thyme>.json\n",
      "./datasets/processed/metadata/<9802293.1075852082991.JavaMail.evans@thyme>.json\n",
      "./datasets/processed/metadata/<19036168.1075851849648.JavaMail.evans@thyme>.json\n",
      "./datasets/processed/metadata/<1758572.1075857287184.JavaMail.evans@thyme>.json\n",
      "./datasets/processed/metadata/<17825243.1075843336113.JavaMail.evans@thyme>.json\n",
      "./datasets/processed/metadata/<32621364.1075857210343.JavaMail.evans@thyme>.json\n",
      "./datasets/processed/metadata/<25528356.1075840892498.JavaMail.evans@thyme>.json\n",
      "./datasets/processed/metadata/<12792350.1075846146294.JavaMail.evans@thyme>.json\n",
      "./datasets/processed/metadata/<33091580.1075844504860.JavaMail.evans@thyme>.json\n",
      "./datasets/processed/metadata/<21570715.1075859166035.JavaMail.evans@thyme>.json\n",
      "./datasets/processed/metadata/<14021627.1075861695936.JavaMail.evans@thyme>.json\n",
      "./datasets/processed/metadata/<23105576.1075847454011.JavaMail.evans@thyme>.json\n",
      "./datasets/processed/metadata/<25944639.1075841839689.JavaMail.evans@thyme>.json\n",
      "./datasets/processed/metadata/<26923376.1075853121505.JavaMail.evans@thyme>.json\n",
      "./datasets/processed/metadata/<28310652.1075851035097.JavaMail.evans@thyme>.json\n",
      "./datasets/processed/metadata/<31223445.1075855024373.JavaMail.evans@thyme>.json\n",
      "./datasets/processed/metadata/<15590899.1075854585618.JavaMail.evans@thyme>.json\n",
      "./datasets/processed/metadata/<25504588.1075844538159.JavaMail.evans@thyme>.json\n",
      "./datasets/processed/metadata/<32694054.1075842506821.JavaMail.evans@thyme>.json\n",
      "./datasets/processed/metadata/<29866690.1075856219588.JavaMail.evans@thyme>.json\n",
      "./datasets/processed/metadata/<9064378.1075855373894.JavaMail.evans@thyme>.json\n",
      "./datasets/processed/metadata/<4734505.1075842374252.JavaMail.evans@thyme>.json\n",
      "./datasets/processed/metadata/<28954797.1075851833987.JavaMail.evans@thyme>.json\n",
      "./datasets/processed/metadata/<13181614.1075854337766.JavaMail.evans@thyme>.json\n",
      "./datasets/processed/metadata/<11225468.1075845362378.JavaMail.evans@thyme>.json\n"
     ]
    }
   ],
   "source": [
    "counter = 0\n",
    "graph = dict()\n",
    "for metadata_file in metadata_files:\n",
    "    if counter < 100:\n",
    "        print(metadata_file)\n",
    "        counter += 1\n",
    "    else:\n",
    "        continue\n",
    "    with io.open(metadata_file) as metadata:\n",
    "        metadata = json.load(metadata)\n",
    "        if metadata['From'] in graph:\n",
    "            graph[metadata['From']].extend(metadata['To'])\n",
    "        else:\n",
    "            graph[metadata['From']] = (metadata['To'])"
   ]
  },
  {
   "cell_type": "code",
   "execution_count": 33,
   "metadata": {},
   "outputs": [],
   "source": [
    "with io.open(\"./datasets/processed/enron_graph.tsv\", \"w\") as enron_graph:\n",
    "    enron_graph.write(\"source\\ttarget\\tweight\\n\")\n",
    "    for k, v in graph.items():\n",
    "        source = k\n",
    "        targets = [(target, v.count(target)) for target in v]\n",
    "        for pair in targets:\n",
    "            target, weight = pair\n",
    "            enron_graph.write(source+\"\\t\"+target+\"\\t\"+str(weight)+\"\\n\")"
   ]
  },
  {
   "cell_type": "code",
   "execution_count": 9,
   "metadata": {},
   "outputs": [],
   "source": [
    "enron_graph = pandas.read_csv(\"./datasets/processed/enron_graph.tsv\", sep=\"\\t\")"
   ]
  },
  {
   "cell_type": "code",
   "execution_count": 10,
   "metadata": {},
   "outputs": [
    {
     "data": {
      "text/html": [
       "<div>\n",
       "<style>\n",
       "    .dataframe thead tr:only-child th {\n",
       "        text-align: right;\n",
       "    }\n",
       "\n",
       "    .dataframe thead th {\n",
       "        text-align: left;\n",
       "    }\n",
       "\n",
       "    .dataframe tbody tr th {\n",
       "        vertical-align: top;\n",
       "    }\n",
       "</style>\n",
       "<table border=\"1\" class=\"dataframe\">\n",
       "  <thead>\n",
       "    <tr style=\"text-align: right;\">\n",
       "      <th></th>\n",
       "      <th>source</th>\n",
       "      <th>target</th>\n",
       "      <th>weight</th>\n",
       "    </tr>\n",
       "  </thead>\n",
       "  <tbody>\n",
       "    <tr>\n",
       "      <th>0</th>\n",
       "      <td>chris.germany@enron.com</td>\n",
       "      <td>elizabeth.hernandez@enron.com</td>\n",
       "      <td>1</td>\n",
       "    </tr>\n",
       "    <tr>\n",
       "      <th>1</th>\n",
       "      <td>chris.germany@enron.com</td>\n",
       "      <td>brenda.fletcher@enron.com</td>\n",
       "      <td>1</td>\n",
       "    </tr>\n",
       "    <tr>\n",
       "      <th>2</th>\n",
       "      <td>chris.germany@enron.com</td>\n",
       "      <td>scott.goodell@enron.com</td>\n",
       "      <td>1</td>\n",
       "    </tr>\n",
       "    <tr>\n",
       "      <th>3</th>\n",
       "      <td>eric.gillaspie@enron.com</td>\n",
       "      <td>gerald.nemec@enron.com</td>\n",
       "      <td>1</td>\n",
       "    </tr>\n",
       "    <tr>\n",
       "      <th>4</th>\n",
       "      <td>stanley.horton@enron.com</td>\n",
       "      <td>rod.hayslett@enron.com</td>\n",
       "      <td>1</td>\n",
       "    </tr>\n",
       "    <tr>\n",
       "      <th>5</th>\n",
       "      <td>jgallagher@epsa.org</td>\n",
       "      <td>acomnes@enron.com</td>\n",
       "      <td>1</td>\n",
       "    </tr>\n",
       "    <tr>\n",
       "      <th>6</th>\n",
       "      <td>jgallagher@epsa.org</td>\n",
       "      <td>bhawkin@enron.com</td>\n",
       "      <td>1</td>\n",
       "    </tr>\n",
       "    <tr>\n",
       "      <th>7</th>\n",
       "      <td>jgallagher@epsa.org</td>\n",
       "      <td>carin.nersesian@enron.com</td>\n",
       "      <td>1</td>\n",
       "    </tr>\n",
       "    <tr>\n",
       "      <th>8</th>\n",
       "      <td>jgallagher@epsa.org</td>\n",
       "      <td>christi.l.nicolay@enron.com</td>\n",
       "      <td>1</td>\n",
       "    </tr>\n",
       "    <tr>\n",
       "      <th>9</th>\n",
       "      <td>jgallagher@epsa.org</td>\n",
       "      <td>donna.fulton@enron.com</td>\n",
       "      <td>1</td>\n",
       "    </tr>\n",
       "  </tbody>\n",
       "</table>\n",
       "</div>"
      ],
      "text/plain": [
       "                     source                         target  weight\n",
       "0   chris.germany@enron.com  elizabeth.hernandez@enron.com       1\n",
       "1   chris.germany@enron.com      brenda.fletcher@enron.com       1\n",
       "2   chris.germany@enron.com        scott.goodell@enron.com       1\n",
       "3  eric.gillaspie@enron.com         gerald.nemec@enron.com       1\n",
       "4  stanley.horton@enron.com         rod.hayslett@enron.com       1\n",
       "5       jgallagher@epsa.org              acomnes@enron.com       1\n",
       "6       jgallagher@epsa.org              bhawkin@enron.com       1\n",
       "7       jgallagher@epsa.org      carin.nersesian@enron.com       1\n",
       "8       jgallagher@epsa.org    christi.l.nicolay@enron.com       1\n",
       "9       jgallagher@epsa.org         donna.fulton@enron.com       1"
      ]
     },
     "execution_count": 10,
     "metadata": {},
     "output_type": "execute_result"
    }
   ],
   "source": [
    "enron_graph.head(10)"
   ]
  },
  {
   "cell_type": "code",
   "execution_count": 12,
   "metadata": {},
   "outputs": [
    {
     "data": {
      "text/plain": [
       "0             andrea.ring@enron.com\n",
       "1               bill.rapp@enron.com\n",
       "2               bill.rapp@enron.com\n",
       "3               bill.rapp@enron.com\n",
       "4               bill.rapp@enron.com\n",
       "5              brad.mckay@enron.com\n",
       "6             brant.reves@enron.com\n",
       "7             brant.reves@enron.com\n",
       "8             brant.reves@enron.com\n",
       "9           brian.redmond@enron.com\n",
       "10          brian.redmond@enron.com\n",
       "11          brian.redmond@enron.com\n",
       "12          brian.redmond@enron.com\n",
       "13          bryan.garrett@enron.com\n",
       "14           bryant@cheatsheets.net\n",
       "15               c..giron@enron.com\n",
       "16         charles.weldon@enron.com\n",
       "17          charles.yeung@enron.com\n",
       "18          charles.yeung@enron.com\n",
       "19          charles.yeung@enron.com\n",
       "20          charles.yeung@enron.com\n",
       "21           chris.foster@enron.com\n",
       "22          chris.germany@enron.com\n",
       "23          chris.germany@enron.com\n",
       "24          chris.germany@enron.com\n",
       "25        christi.nicolay@enron.com\n",
       "26        christi.nicolay@enron.com\n",
       "27        christi.nicolay@enron.com\n",
       "28        christi.nicolay@enron.com\n",
       "29        christi.nicolay@enron.com\n",
       "                   ...             \n",
       "587       sara.shackleton@enron.com\n",
       "588        stanley.horton@enron.com\n",
       "589           steven.kean@enron.com\n",
       "590           steven.kean@enron.com\n",
       "591    support@mail.playersonly.com\n",
       "592            tana.jones@enron.com\n",
       "593            tana.jones@enron.com\n",
       "594            tana.jones@enron.com\n",
       "595            tana.jones@enron.com\n",
       "596            tana.jones@enron.com\n",
       "597          valarie.sabo@enron.com\n",
       "598       victor.lamadrid@enron.com\n",
       "599       victor.lamadrid@enron.com\n",
       "600       victor.lamadrid@enron.com\n",
       "601       victor.lamadrid@enron.com\n",
       "602       victor.lamadrid@enron.com\n",
       "603       victor.lamadrid@enron.com\n",
       "604       victor.lamadrid@enron.com\n",
       "605       victor.lamadrid@enron.com\n",
       "606       victor.lamadrid@enron.com\n",
       "607       victor.lamadrid@enron.com\n",
       "608       victor.lamadrid@enron.com\n",
       "609       victor.lamadrid@enron.com\n",
       "610       victor.lamadrid@enron.com\n",
       "611       victor.lamadrid@enron.com\n",
       "612       victor.lamadrid@enron.com\n",
       "613       victor.lamadrid@enron.com\n",
       "614       victor.lamadrid@enron.com\n",
       "615       victor.lamadrid@enron.com\n",
       "616        vince.kaminski@enron.com\n",
       "Name: source, Length: 617, dtype: object"
      ]
     },
     "execution_count": 12,
     "metadata": {},
     "output_type": "execute_result"
    }
   ],
   "source": [
    "groupby_people = enron_graph.groupby(by=[\"source\", \"target\"])\n",
    "\n",
    "# unique emails(a.k.a graph nodes)\n",
    "groupby_people.count().reset_index()['source']"
   ]
  },
  {
   "cell_type": "code",
   "execution_count": 6,
   "metadata": {},
   "outputs": [
    {
     "data": {
      "text/plain": [
       "['wise.counsel@lpl.com']"
      ]
     },
     "execution_count": 6,
     "metadata": {},
     "output_type": "execute_result"
    }
   ],
   "source": [
    " metadata['To']"
   ]
  },
  {
   "cell_type": "code",
   "execution_count": null,
   "metadata": {},
   "outputs": [],
   "source": []
  },
  {
   "cell_type": "code",
   "execution_count": null,
   "metadata": {},
   "outputs": [],
   "source": []
  }
 ],
 "metadata": {
  "kernelspec": {
   "display_name": "Python 3",
   "language": "python",
   "name": "python3"
  },
  "language_info": {
   "codemirror_mode": {
    "name": "ipython",
    "version": 3
   },
   "file_extension": ".py",
   "mimetype": "text/x-python",
   "name": "python",
   "nbconvert_exporter": "python",
   "pygments_lexer": "ipython3",
   "version": "3.6.3"
  }
 },
 "nbformat": 4,
 "nbformat_minor": 2
}

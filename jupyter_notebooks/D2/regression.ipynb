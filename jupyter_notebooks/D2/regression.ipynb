{
 "cells": [
  {
   "cell_type": "code",
   "execution_count": null,
   "metadata": {},
   "outputs": [],
   "source": [
    "import pandas\n",
    "\n",
    "# set the appropriate options for pandas\n",
    "pandas.set_option('display.max_rows', 10)"
   ]
  },
  {
   "cell_type": "code",
   "execution_count": null,
   "metadata": {},
   "outputs": [],
   "source": [
    "# load the dataset into the workspace\n",
    "data = pandas.read_csv(\"./datasets/energydata_complete.csv\",parse_dates=[\"date\"])"
   ]
  },
  {
   "cell_type": "code",
   "execution_count": null,
   "metadata": {},
   "outputs": [],
   "source": [
    "# let's have a peek into the data\n",
    "#data.head(12)\n",
    "data"
   ]
  },
  {
   "cell_type": "code",
   "execution_count": null,
   "metadata": {},
   "outputs": [],
   "source": [
    "import warnings\n",
    "\n",
    "# turning warnings off\n",
    "warnings.catch_warnings()\n",
    "\n",
    "from xgboost import XGBRegressor"
   ]
  },
  {
   "cell_type": "code",
   "execution_count": null,
   "metadata": {},
   "outputs": [],
   "source": [
    "# let's see what we have here?!\n",
    "data.columns, len(data.columns)"
   ]
  },
  {
   "cell_type": "code",
   "execution_count": null,
   "metadata": {},
   "outputs": [],
   "source": [
    "# select target and features\n",
    "features = ['lights', 'T1', 'RH_1', 'T2', 'RH_2', 'T3',\n",
    "            'RH_3', 'T4', 'RH_4', 'T5', 'RH_5', 'T6', 'RH_6', 'T7',\n",
    "            #'RH_7', 'T8', 'RH_8', 'T9', 'RH_9', 'T_out', 'Press_mm_hg', \n",
    "            'RH_out', 'Windspeed', 'Visibility', 'Tdewpoint', \n",
    "            'rv1', 'rv2'\n",
    "           ]\n",
    "target = ['Appliances']"
   ]
  },
  {
   "cell_type": "code",
   "execution_count": null,
   "metadata": {},
   "outputs": [],
   "source": [
    "# separate X, from Y\n",
    "X, Y = data[features], data[target]\n",
    "\n",
    "# use first 95% observation for training the rest for test\n",
    "train_margin = int(data.shape[0]*0.80)\n",
    "\n",
    "x_train, x_test = X[0:train_margin], X[train_margin:]\n",
    "y_train, y = Y[0:train_margin], Y[train_margin:]"
   ]
  },
  {
   "cell_type": "code",
   "execution_count": null,
   "metadata": {
    "scrolled": false
   },
   "outputs": [],
   "source": [
    "# visit http://xgboost.readthedocs.io/en/latest/parameter.html for more info on hyper parameter tuning\n",
    "help(XGBRegressor)\n",
    "pass"
   ]
  },
  {
   "cell_type": "code",
   "execution_count": null,
   "metadata": {},
   "outputs": [],
   "source": [
    "model = XGBRegressor(n_estimators=100, max_depth=5, nthread=2, \n",
    "                     silent=False, objective=\"reg:linear\")\n",
    "\n",
    "# train the model\n",
    "model.fit(x_train, y_train, eval_metric=\"rmse\", verbose=True)"
   ]
  },
  {
   "cell_type": "code",
   "execution_count": null,
   "metadata": {},
   "outputs": [],
   "source": [
    "# make the predictions\n",
    "y_hat = model.predict(x_test)\n",
    "y"
   ]
  },
  {
   "cell_type": "code",
   "execution_count": null,
   "metadata": {},
   "outputs": [],
   "source": [
    "make_df = pandas.DataFrame\n",
    "y_and_y_hat = pandas.concat([y.rename(columns={\"Appliances\": \"y\"}).reset_index(), \n",
    "                             make_df({\"y_hat\": list(y_hat)})], axis=\"columns\")\n",
    "y_and_y_hat"
   ]
  },
  {
   "cell_type": "code",
   "execution_count": null,
   "metadata": {},
   "outputs": [],
   "source": [
    "from sklearn.metrics import mean_absolute_error, median_absolute_error"
   ]
  },
  {
   "cell_type": "code",
   "execution_count": null,
   "metadata": {},
   "outputs": [],
   "source": [
    "error_function = mean_absolute_error\n",
    "error_function(y_and_y_hat[\"y\"], y_and_y_hat[\"y_hat\"])"
   ]
  },
  {
   "cell_type": "code",
   "execution_count": null,
   "metadata": {},
   "outputs": [],
   "source": [
    "# let's see\n",
    "from bokeh.plotting import figure, output_file, show"
   ]
  },
  {
   "cell_type": "code",
   "execution_count": null,
   "metadata": {},
   "outputs": [],
   "source": [
    "output_file(\"/tmp/line.html\")\n",
    "\n",
    "plot1 = figure(plot_width=800, plot_height=600, y_axis_label=\"Appliance Power Consumption(KW/h)\", \n",
    "               x_axis_label=\"Observation index\", title=\"y(gree) to y_hat(red) comparison\")\n",
    "\n",
    "x = y_and_y_hat[\"index\"]\n",
    "\n",
    "# add a line renderer\n",
    "plot1.line(x, y_and_y_hat[\"y\"], line_width=2, color=\"green\")\n",
    "plot1.line(x, y_and_y_hat[\"y_hat\"], line_width=2, color=\"red\")\n",
    "\n",
    "show(plot1)"
   ]
  }
 ],
 "metadata": {
  "kernelspec": {
   "display_name": "Python 3",
   "language": "python",
   "name": "python3"
  },
  "language_info": {
   "codemirror_mode": {
    "name": "ipython",
    "version": 3
   },
   "file_extension": ".py",
   "mimetype": "text/x-python",
   "name": "python",
   "nbconvert_exporter": "python",
   "pygments_lexer": "ipython3",
   "version": "3.6.3"
  }
 },
 "nbformat": 4,
 "nbformat_minor": 2
}

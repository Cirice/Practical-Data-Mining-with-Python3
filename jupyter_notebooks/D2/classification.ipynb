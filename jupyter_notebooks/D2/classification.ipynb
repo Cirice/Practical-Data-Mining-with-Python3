{
 "cells": [
  {
   "cell_type": "code",
   "execution_count": null,
   "metadata": {},
   "outputs": [],
   "source": [
    "import pandas\n",
    "import numpy\n",
    "\n",
    "# set the appropriate options for pandas\n",
    "pandas.set_option('display.max_rows', 20)"
   ]
  },
  {
   "cell_type": "code",
   "execution_count": null,
   "metadata": {},
   "outputs": [],
   "source": [
    "# load the dataset into the workspace\n",
    "data = pandas.read_csv('./datasets/Chronic_Kidney_Disease/chronic_kidney_disease_full.csv')\n",
    "data"
   ]
  },
  {
   "cell_type": "code",
   "execution_count": null,
   "metadata": {},
   "outputs": [],
   "source": [
    "import warnings\n",
    "\n",
    "# turning warnings off\n",
    "warnings.catch_warnings()\n",
    "\n",
    "from xgboost import XGBClassifier"
   ]
  },
  {
   "cell_type": "code",
   "execution_count": null,
   "metadata": {},
   "outputs": [],
   "source": [
    "data.dtypes"
   ]
  },
  {
   "cell_type": "code",
   "execution_count": null,
   "metadata": {},
   "outputs": [],
   "source": [
    "# let's see what we have here?!\n",
    "data.columns, len(data.columns)"
   ]
  },
  {
   "cell_type": "code",
   "execution_count": null,
   "metadata": {},
   "outputs": [],
   "source": [
    "# select target and features\n",
    "features = ['age', 'bp', 'sg', 'al', 'su', 'rbc', 'pc', 'pcc', 'ba', 'bgr', 'bu',\n",
    "        'sc', 'sod', 'pot', 'hemo', 'pcv', 'wbcc', 'rbcc', 'htn', 'dm', 'cad',\n",
    "        'appet', 'pe', 'ane']\n",
    "target = ['class']"
   ]
  },
  {
   "cell_type": "code",
   "execution_count": null,
   "metadata": {},
   "outputs": [],
   "source": [
    "# separate X, from Y\n",
    "X, Y = data[features], data[target]"
   ]
  },
  {
   "cell_type": "code",
   "execution_count": null,
   "metadata": {},
   "outputs": [],
   "source": [
    "from sklearn.model_selection import train_test_split"
   ]
  },
  {
   "cell_type": "code",
   "execution_count": null,
   "metadata": {},
   "outputs": [],
   "source": [
    "x_train, x_test, y_train, y =\\\n",
    "train_test_split(X, Y, test_size=0.3, random_state=0)"
   ]
  },
  {
   "cell_type": "code",
   "execution_count": null,
   "metadata": {
    "scrolled": false
   },
   "outputs": [],
   "source": [
    "# visit http://xgboost.readthedocs.io/en/latest/parameter.html for more info on hyper parameter tuning\n",
    "#help(XGBClassifier)\n",
    "pass"
   ]
  },
  {
   "cell_type": "code",
   "execution_count": null,
   "metadata": {},
   "outputs": [],
   "source": [
    "model = XGBClassifier(max_depth=3, learning_rate=0.1, n_estimators=100, silent=False, \n",
    "                      objective='binary:logistic', nthread=-1, gamma=0, min_child_weight=1, \n",
    "                      max_delta_step=0, subsample=1, colsample_bytree=1, colsample_bylevel=1, \n",
    "                      reg_alpha=0, reg_lambda=1, scale_pos_weight=1, base_score=0.5, seed=0, \n",
    "                      missing=None)\n",
    "\n",
    "# train the model\n",
    "model.fit(x_train, y_train, eval_metric='logloss', verbose=True)"
   ]
  },
  {
   "cell_type": "code",
   "execution_count": null,
   "metadata": {},
   "outputs": [],
   "source": [
    "## I dont like nans\n",
    "#data.replace('?', numpy.nan, inplace=True)\n",
    "#data.dropna(inplace=True)\n",
    "\n",
    "## or\n",
    "# data = data[data != '?']\n",
    "\n",
    "# replace the nan with mode\n",
    "def fix_bad_values(x):\n",
    "    try:\n",
    "        x = float(x)\n",
    "    except:\n",
    "        return numpy.nan\n",
    "    else: \n",
    "        return x\n",
    "    \n",
    "data.replace('?', numpy.nan, inplace=True)\n",
    "\n",
    "def is_categorial(x):\n",
    "    try:\n",
    "        float(x)\n",
    "    except:\n",
    "        return True\n",
    "    else: \n",
    "        return False\n",
    "\n",
    "def encode(x):\n",
    "    return hash(x)\n",
    "\n",
    "for column in data.columns:\n",
    "    mode = data[column].mode()[0]\n",
    "    print(column, mode, type(mode))\n",
    "    if is_categorial(mode):\n",
    "        data[column].fillna(mode, inplace=True)\n",
    "        data[column] = data[column].apply(encode)\n",
    "    else:\n",
    "        data[column] = data[column].apply(fix_bad_values)\n",
    "        mean = data[column].astype(numpy.float).mean()\n",
    "        data[column].fillna(mean, inplace=True)\n",
    "data"
   ]
  },
  {
   "cell_type": "code",
   "execution_count": null,
   "metadata": {},
   "outputs": [],
   "source": [
    "# make the predictions\n",
    "y_hat = model.predict(x_test)"
   ]
  },
  {
   "cell_type": "code",
   "execution_count": null,
   "metadata": {},
   "outputs": [],
   "source": [
    "make_df = pandas.DataFrame\n",
    "y_and_y_hat = pandas.concat([y.rename(columns={\"class\": \"y\"}).reset_index(), \n",
    "                             make_df({\"y_hat\": list(y_hat)})], axis=\"columns\")\n",
    "y_and_y_hat"
   ]
  },
  {
   "cell_type": "code",
   "execution_count": null,
   "metadata": {},
   "outputs": [],
   "source": [
    "from sklearn.metrics import classification_report, accuracy_score"
   ]
  },
  {
   "cell_type": "code",
   "execution_count": null,
   "metadata": {},
   "outputs": [],
   "source": [
    "error_function = accuracy_score\n",
    "report = error_function(y_and_y_hat[\"y\"], y_and_y_hat[\"y_hat\"])\n",
    "print(report)"
   ]
  },
  {
   "cell_type": "code",
   "execution_count": null,
   "metadata": {},
   "outputs": [],
   "source": [
    "data['rnd1'] = numpy.random.randint(0, 100 , size=(data.shape[0], 1))"
   ]
  },
  {
   "cell_type": "code",
   "execution_count": null,
   "metadata": {},
   "outputs": [],
   "source": [
    "# select target and features\n",
    "features = ['age', 'bp', 'sg', 'al', 'su', 'rbc', 'pc', 'pcc', 'ba', 'bgr', 'bu',\n",
    "        'sc', 'sod', 'pot', 'hemo', 'pcv', 'wbcc', 'rbcc', 'htn', 'cad', 'dm',\n",
    "        'appet', 'pe', 'ane', 'rnd1']\n",
    "target = ['class']"
   ]
  },
  {
   "cell_type": "code",
   "execution_count": null,
   "metadata": {},
   "outputs": [],
   "source": [
    "data"
   ]
  },
  {
   "cell_type": "code",
   "execution_count": null,
   "metadata": {},
   "outputs": [],
   "source": [
    "hash(\"good\")%2"
   ]
  },
  {
   "cell_type": "code",
   "execution_count": null,
   "metadata": {},
   "outputs": [],
   "source": [
    "hash('present')%2, hash('notpresent')%2"
   ]
  }
 ],
 "metadata": {
  "kernelspec": {
   "display_name": "Python 3",
   "language": "python",
   "name": "python3"
  },
  "language_info": {
   "codemirror_mode": {
    "name": "ipython",
    "version": 3
   },
   "file_extension": ".py",
   "mimetype": "text/x-python",
   "name": "python",
   "nbconvert_exporter": "python",
   "pygments_lexer": "ipython3",
   "version": "3.6.3"
  }
 },
 "nbformat": 4,
 "nbformat_minor": 2
}

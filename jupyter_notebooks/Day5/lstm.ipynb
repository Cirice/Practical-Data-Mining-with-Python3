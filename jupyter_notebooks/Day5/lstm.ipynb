{
 "cells": [
  {
   "cell_type": "code",
   "execution_count": 1,
   "metadata": {},
   "outputs": [
    {
     "name": "stderr",
     "output_type": "stream",
     "text": [
      "Using TensorFlow backend.\n"
     ]
    }
   ],
   "source": [
    "import pandas\n",
    "import numpy\n",
    "\n",
    "from keras.layers.core import Dense, Activation, Dropout, Flatten\n",
    "from keras.layers.recurrent import LSTM\n",
    "from keras.models import Sequential\n",
    "\n",
    "pandas.set_option('display.max_rows', 10)\n",
    "pandas.set_option('display.max_columns', 10)\n",
    "\n",
    "# set a fixed seed for numpy pseudo random generator\n",
    "numpy.random.seed(100)"
   ]
  },
  {
   "cell_type": "code",
   "execution_count": 2,
   "metadata": {},
   "outputs": [],
   "source": [
    "data = pandas.read_csv(\"./datasets/gold_data_20170407to20170810.csv\", parse_dates=['date'])"
   ]
  },
  {
   "cell_type": "code",
   "execution_count": 3,
   "metadata": {},
   "outputs": [
    {
     "data": {
      "text/html": [
       "<div>\n",
       "<style>\n",
       "    .dataframe thead tr:only-child th {\n",
       "        text-align: right;\n",
       "    }\n",
       "\n",
       "    .dataframe thead th {\n",
       "        text-align: left;\n",
       "    }\n",
       "\n",
       "    .dataframe tbody tr th {\n",
       "        vertical-align: top;\n",
       "    }\n",
       "</style>\n",
       "<table border=\"1\" class=\"dataframe\">\n",
       "  <thead>\n",
       "    <tr style=\"text-align: right;\">\n",
       "      <th></th>\n",
       "      <th>date</th>\n",
       "      <th>time</th>\n",
       "      <th>derham.close</th>\n",
       "      <th>derham.high</th>\n",
       "      <th>derham.low</th>\n",
       "      <th>...</th>\n",
       "      <th>iran_gold.close</th>\n",
       "      <th>iran_gold.high</th>\n",
       "      <th>iran_gold.low</th>\n",
       "      <th>iran_gold.open</th>\n",
       "      <th>iran_gold.volume</th>\n",
       "    </tr>\n",
       "  </thead>\n",
       "  <tbody>\n",
       "    <tr>\n",
       "      <th>0</th>\n",
       "      <td>2017-02-28</td>\n",
       "      <td>151200</td>\n",
       "      <td>NaN</td>\n",
       "      <td>NaN</td>\n",
       "      <td>NaN</td>\n",
       "      <td>...</td>\n",
       "      <td>5035000</td>\n",
       "      <td>5035000</td>\n",
       "      <td>5035000</td>\n",
       "      <td>5035000</td>\n",
       "      <td>1</td>\n",
       "    </tr>\n",
       "    <tr>\n",
       "      <th>1</th>\n",
       "      <td>2017-02-28</td>\n",
       "      <td>151300</td>\n",
       "      <td>NaN</td>\n",
       "      <td>NaN</td>\n",
       "      <td>NaN</td>\n",
       "      <td>...</td>\n",
       "      <td>5035000</td>\n",
       "      <td>5035000</td>\n",
       "      <td>5035000</td>\n",
       "      <td>5035000</td>\n",
       "      <td>1</td>\n",
       "    </tr>\n",
       "    <tr>\n",
       "      <th>2</th>\n",
       "      <td>2017-02-28</td>\n",
       "      <td>151400</td>\n",
       "      <td>NaN</td>\n",
       "      <td>NaN</td>\n",
       "      <td>NaN</td>\n",
       "      <td>...</td>\n",
       "      <td>5035000</td>\n",
       "      <td>5035000</td>\n",
       "      <td>5035000</td>\n",
       "      <td>5035000</td>\n",
       "      <td>1</td>\n",
       "    </tr>\n",
       "    <tr>\n",
       "      <th>3</th>\n",
       "      <td>2017-02-28</td>\n",
       "      <td>151500</td>\n",
       "      <td>NaN</td>\n",
       "      <td>NaN</td>\n",
       "      <td>NaN</td>\n",
       "      <td>...</td>\n",
       "      <td>5035000</td>\n",
       "      <td>5035000</td>\n",
       "      <td>5035000</td>\n",
       "      <td>5035000</td>\n",
       "      <td>1</td>\n",
       "    </tr>\n",
       "    <tr>\n",
       "      <th>4</th>\n",
       "      <td>2017-02-28</td>\n",
       "      <td>151600</td>\n",
       "      <td>NaN</td>\n",
       "      <td>NaN</td>\n",
       "      <td>NaN</td>\n",
       "      <td>...</td>\n",
       "      <td>5035000</td>\n",
       "      <td>5035000</td>\n",
       "      <td>5035000</td>\n",
       "      <td>5035000</td>\n",
       "      <td>1</td>\n",
       "    </tr>\n",
       "  </tbody>\n",
       "</table>\n",
       "<p>5 rows × 17 columns</p>\n",
       "</div>"
      ],
      "text/plain": [
       "        date    time  derham.close  derham.high  derham.low        ...         \\\n",
       "0 2017-02-28  151200           NaN          NaN         NaN        ...          \n",
       "1 2017-02-28  151300           NaN          NaN         NaN        ...          \n",
       "2 2017-02-28  151400           NaN          NaN         NaN        ...          \n",
       "3 2017-02-28  151500           NaN          NaN         NaN        ...          \n",
       "4 2017-02-28  151600           NaN          NaN         NaN        ...          \n",
       "\n",
       "   iran_gold.close  iran_gold.high  iran_gold.low  iran_gold.open  \\\n",
       "0          5035000         5035000        5035000         5035000   \n",
       "1          5035000         5035000        5035000         5035000   \n",
       "2          5035000         5035000        5035000         5035000   \n",
       "3          5035000         5035000        5035000         5035000   \n",
       "4          5035000         5035000        5035000         5035000   \n",
       "\n",
       "   iran_gold.volume  \n",
       "0                 1  \n",
       "1                 1  \n",
       "2                 1  \n",
       "3                 1  \n",
       "4                 1  \n",
       "\n",
       "[5 rows x 17 columns]"
      ]
     },
     "execution_count": 3,
     "metadata": {},
     "output_type": "execute_result"
    }
   ],
   "source": [
    "data.head()"
   ]
  },
  {
   "cell_type": "code",
   "execution_count": 4,
   "metadata": {},
   "outputs": [
    {
     "data": {
      "text/plain": [
       "Index(['date', 'time', 'derham.close', 'derham.high', 'derham.low',\n",
       "       'derham.open', 'derham.volume', 'dollar.close', 'dollar.high',\n",
       "       'dollar.low', 'dollar.open', 'dollar.volume', 'iran_gold.close',\n",
       "       'iran_gold.high', 'iran_gold.low', 'iran_gold.open',\n",
       "       'iran_gold.volume'],\n",
       "      dtype='object')"
      ]
     },
     "execution_count": 4,
     "metadata": {},
     "output_type": "execute_result"
    }
   ],
   "source": [
    "data.columns"
   ]
  },
  {
   "cell_type": "code",
   "execution_count": 5,
   "metadata": {},
   "outputs": [],
   "source": [
    "target = 'iran_gold.close'"
   ]
  },
  {
   "cell_type": "code",
   "execution_count": 7,
   "metadata": {},
   "outputs": [],
   "source": [
    "train_percent = 0.8\n",
    "lag_step = 1\n",
    "margin = int(train_percent*data.shape[0])\n",
    "new_data = pandas.DataFrame({\"x\": [i for i in data[target]],\n",
    "                             \"y\": [i for i in data[target].shift(lag_step)]})\n",
    "new_data.dropna(inplace=True)\n",
    "train = new_data.iloc[0:margin]\n",
    "test = new_data.iloc[margin:]"
   ]
  },
  {
   "cell_type": "code",
   "execution_count": 8,
   "metadata": {},
   "outputs": [
    {
     "data": {
      "text/html": [
       "<div>\n",
       "<style>\n",
       "    .dataframe thead tr:only-child th {\n",
       "        text-align: right;\n",
       "    }\n",
       "\n",
       "    .dataframe thead th {\n",
       "        text-align: left;\n",
       "    }\n",
       "\n",
       "    .dataframe tbody tr th {\n",
       "        vertical-align: top;\n",
       "    }\n",
       "</style>\n",
       "<table border=\"1\" class=\"dataframe\">\n",
       "  <thead>\n",
       "    <tr style=\"text-align: right;\">\n",
       "      <th></th>\n",
       "      <th>x</th>\n",
       "      <th>y</th>\n",
       "    </tr>\n",
       "  </thead>\n",
       "  <tbody>\n",
       "    <tr>\n",
       "      <th>65561</th>\n",
       "      <td>4936000</td>\n",
       "      <td>4936000.0</td>\n",
       "    </tr>\n",
       "    <tr>\n",
       "      <th>65562</th>\n",
       "      <td>4936000</td>\n",
       "      <td>4936000.0</td>\n",
       "    </tr>\n",
       "    <tr>\n",
       "      <th>65563</th>\n",
       "      <td>4936000</td>\n",
       "      <td>4936000.0</td>\n",
       "    </tr>\n",
       "    <tr>\n",
       "      <th>65564</th>\n",
       "      <td>4936000</td>\n",
       "      <td>4936000.0</td>\n",
       "    </tr>\n",
       "    <tr>\n",
       "      <th>65565</th>\n",
       "      <td>4936000</td>\n",
       "      <td>4936000.0</td>\n",
       "    </tr>\n",
       "  </tbody>\n",
       "</table>\n",
       "</div>"
      ],
      "text/plain": [
       "             x          y\n",
       "65561  4936000  4936000.0\n",
       "65562  4936000  4936000.0\n",
       "65563  4936000  4936000.0\n",
       "65564  4936000  4936000.0\n",
       "65565  4936000  4936000.0"
      ]
     },
     "execution_count": 8,
     "metadata": {},
     "output_type": "execute_result"
    }
   ],
   "source": [
    "train.head()\n",
    "test.head()"
   ]
  },
  {
   "cell_type": "code",
   "execution_count": 9,
   "metadata": {},
   "outputs": [
    {
     "data": {
      "text/plain": [
       "array([[ 5036000.,  5036000.],\n",
       "       [ 5036000.,  5036000.],\n",
       "       [ 5036000.,  5036000.],\n",
       "       ..., \n",
       "       [ 5028000.,  5028000.],\n",
       "       [ 5028000.,  5028000.],\n",
       "       [ 5028000.,  5028000.]])"
      ]
     },
     "execution_count": 9,
     "metadata": {},
     "output_type": "execute_result"
    }
   ],
   "source": [
    "def load_data(pdf, mem=100):\n",
    "    \n",
    "    docX, docY = [], []\n",
    "    for i in range(len(pdf)-mem):\n",
    "        docX.append(pdf.iloc[i:i+mem].as_matrix())\n",
    "        docY.append(pdf.iloc[i+mem].as_matrix())\n",
    "        \n",
    "    return numpy.array(docX), numpy.array(docY)\n",
    "\n",
    "X_train, Y_train = load_data(train[0:1000])\n",
    "X_test, Y_test = load_data(test[0:1000])\n",
    "Y_train"
   ]
  },
  {
   "cell_type": "code",
   "execution_count": 10,
   "metadata": {},
   "outputs": [
    {
     "name": "stdout",
     "output_type": "stream",
     "text": [
      "Train on 810 samples, validate on 90 samples\n",
      "Epoch 1/10\n",
      "810/810 [==============================] - 11s - loss: 25312920441995.0625 - val_loss: 25280783581184.0000\n",
      "Epoch 2/10\n",
      "810/810 [==============================] - 8s - loss: 25312920545558.1250 - val_loss: 25280783581184.0000\n",
      "Epoch 3/10\n",
      "810/810 [==============================] - 8s - loss: 25312916325363.3555 - val_loss: 25280783581184.0000\n",
      "Epoch 4/10\n",
      "810/810 [==============================] - 8s - loss: 25312915289732.7422 - val_loss: 25280783581184.0000\n",
      "Epoch 5/10\n",
      "810/810 [==============================] - 8s - loss: 25312916273581.8281 - val_loss: 25280783581184.0000\n",
      "Epoch 6/10\n",
      "810/810 [==============================] - 8s - loss: 25312911716807.1094 - val_loss: 25280779386880.0000\n",
      "Epoch 7/10\n",
      "810/810 [==============================] - 9s - loss: 25312915781657.2852 - val_loss: 25280779386880.0000\n",
      "Epoch 8/10\n",
      "810/810 [==============================] - 8s - loss: 25312912260513.1875 - val_loss: 25280779386880.0000\n",
      "Epoch 9/10\n",
      "810/810 [==============================] - 9s - loss: 25312910318705.7773 - val_loss: 25280779386880.0000\n",
      "Epoch 10/10\n",
      "810/810 [==============================] - 9s - loss: 25312907289486.2227 - val_loss: 25280779386880.0000\n"
     ]
    }
   ],
   "source": [
    "in_out_neurons = (None, 2)\n",
    "hidden_neurons = 100\n",
    "\n",
    "model = Sequential()\n",
    "model.add(LSTM(hidden_neurons, input_shape=in_out_neurons, return_sequences=False))\n",
    "model.add(Dropout(0.2))\n",
    "model.add(Dense(in_out_neurons[1], input_dim=hidden_neurons))\n",
    "model.add(Activation(\"linear\"))\n",
    "model.compile(loss=\"mean_squared_error\", optimizer=\"rmsprop\")\n",
    "model.fit(X_train, Y_train, batch_size=500, epochs=10, validation_split=0.1)\n",
    "\n",
    "pred = model.predict(X_test)\n",
    "y_hat = pandas.DataFrame(pred, columns=['t-1', 't'])\n",
    "y = pandas.DataFrame(Y_test, columns=['t-1', 't'])"
   ]
  },
  {
   "cell_type": "code",
   "execution_count": 11,
   "metadata": {},
   "outputs": [],
   "source": [
    "from bokeh.layouts import gridplot\n",
    "from bokeh.plotting import figure, show, output_file"
   ]
  },
  {
   "cell_type": "code",
   "execution_count": 12,
   "metadata": {},
   "outputs": [],
   "source": [
    "p1 = figure(x_axis_type=\"datetime\", title=\"Gold High Prices\")\n",
    "p1.grid.grid_line_alpha = 0.3\n",
    "p1.xaxis.axis_label = 'Date'\n",
    "p1.yaxis.axis_label = 'Price'\n",
    "\n",
    "p1.line(y_hat.index, y_hat['t'], color='#A6CEE3', legend='y_hat')\n",
    "p1.line(y.index, y['t'], color='#B2DF8A', legend='y')\n",
    "p1.legend.location = \"top_left\"\n",
    "\n",
    "output_file(\"/tmp/index.html\", title=\"Iran Gold[High] Price Prediction\")\n",
    "\n",
    "show(gridplot([[p1]], plot_width=600, plot_height=600, sizing_mode='stretch_both'))"
   ]
  },
  {
   "cell_type": "code",
   "execution_count": null,
   "metadata": {},
   "outputs": [],
   "source": []
  }
 ],
 "metadata": {
  "kernelspec": {
   "display_name": "Python 3",
   "language": "python",
   "name": "python3"
  },
  "language_info": {
   "codemirror_mode": {
    "name": "ipython",
    "version": 3
   },
   "file_extension": ".py",
   "mimetype": "text/x-python",
   "name": "python",
   "nbconvert_exporter": "python",
   "pygments_lexer": "ipython3",
   "version": "3.6.3"
  }
 },
 "nbformat": 4,
 "nbformat_minor": 2
}

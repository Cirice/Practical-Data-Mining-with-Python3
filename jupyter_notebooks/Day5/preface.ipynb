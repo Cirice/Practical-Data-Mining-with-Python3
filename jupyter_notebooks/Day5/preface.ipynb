{
 "cells": [
  {
   "cell_type": "markdown",
   "metadata": {},
   "source": [
    "### Dataset repositories\n",
    "\n",
    "Data used for this section is from following sources:\n",
    "\n",
    "* [Twitter Api](https://developer.twitter.com/en/docs)\n",
    "* [Local repo](datasets/gold_data_20170407to20170810.csv)\n",
    "\n",
    "\n",
    "### Datasets are as follows:\n",
    "\n",
    "#### Tweets Stream Dataset\n",
    "   * [Search results for public tweets containing \\#btc](https://twitter.com/hashtag/btc?src=rela)\n",
    "\n",
    "#### Gold Price Prediction\n",
    "   * [Iran gold price prediction with LSTM](https://en.wikipedia.org/wiki/Long_short-term_memory)\n",
    "   \n",
    "\n",
    "### Jupyter notebook files:\n",
    "   * [Twitter Tweet Stream](tweet_stream.ipynb)\n",
    "   * [Recurrent Neural Network(RNN)](lstm.ipynb)\n",
    " \n",
    "### Tools, Algorithms and Resourse:\n",
    "   * [Tweetpy](https://github.com/tweepy/tweepy)\n",
    "   * [Deep Learning Book](http://www.deeplearningbook.org)\n",
    "   * [Understanding LSTM](http://colah.github.io/posts/2015-08-Understanding-LSTMs/)\n",
    "   * [On effectiveness of RNNs](http://karpathy.github.io/2015/05/21/rnn-effectiveness/)\n",
    "   * [A nice blog containing stuf generally related to artificial neural networks](http://colah.github.io)\n",
    "   * [Another nice blog](http://karpathy.github.io)\n",
    "   * [WILDML](http://www.wildml.com)\n",
    "   * [Original LSTM paper](http://www.bioinf.jku.at/publications/older/2604.pdf)\n",
    "   * [Another introduction to LSTM](http://deeplearning.net/tutorial/lstm.html)\n",
    "   * [H2O tutorials](https://github.com/h2oai/h2o-tutorials)\n",
    "   * [H2O ML PLatform](https://www.h2o.ai/)\n",
    "   \n",
    "### Python3 packages:\n",
    "\n",
    "```Bash\n",
    "    # run these commands inside 'ANACONDA_HOME/bin' directory\n",
    "    conda install -c conda-forge tweepy   \n",
    "    ./pip install rethinkdb\n",
    "    conda install keras theano tensorflow pandas numpy\n",
    "```"
   ]
  }
 ],
 "metadata": {
  "kernelspec": {
   "display_name": "Python 3",
   "language": "python",
   "name": "python3"
  },
  "language_info": {
   "codemirror_mode": {
    "name": "ipython",
    "version": 3
   },
   "file_extension": ".py",
   "mimetype": "text/x-python",
   "name": "python",
   "nbconvert_exporter": "python",
   "pygments_lexer": "ipython3",
   "version": "3.6.3"
  }
 },
 "nbformat": 4,
 "nbformat_minor": 2
}

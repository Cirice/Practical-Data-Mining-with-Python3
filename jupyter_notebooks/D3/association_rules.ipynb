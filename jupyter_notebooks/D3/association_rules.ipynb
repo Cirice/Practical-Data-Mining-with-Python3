{
 "cells": [
  {
   "cell_type": "markdown",
   "metadata": {},
   "source": [
    "# Association Rule Mining\n",
    "\n",
    "The problem of association rule mining is defined as:\n",
    "\n",
    "Let ${\\displaystyle I=\\{i_{1},i_{2},\\ldots ,i_{n}\\}}$ be a set of ${\\displaystyle n}$ binary attributes(usually 0 or 1 valued) called **items**.\n",
    "\n",
    "Let ${\\displaystyle D=\\{t_{1},t_{2},\\ldots ,t_{m}\\}}$ be a set of transactions called the **database**.\n",
    "\n",
    "Each transaction in ${\\displaystyle D}$ has a unique transaction ID and contains a subset of the items in ${\\displaystyle I}$.\n",
    "\n",
    "A rule is defined as an implication of the form:\n",
    "\n",
    "${\\displaystyle X\\Rightarrow Y}$, where ${\\displaystyle X,Y\\subseteq I}$.\n",
    "\n",
    "<table style=\"float: left; margin-left: 1em; text-align:center;\">\n",
    "<caption>Example database with 5 transactions and 5 items</caption>\n",
    "<tr>\n",
    "<th>transaction ID</th>\n",
    "<th>milk</th>\n",
    "<th>bread</th>\n",
    "<th>butter</th>\n",
    "<th>beer</th>\n",
    "<th>diapers</th>\n",
    "</tr>\n",
    "<tr>\n",
    "<td>1</td>\n",
    "<td>1</td>\n",
    "<td>1</td>\n",
    "<td>0</td>\n",
    "<td>0</td>\n",
    "<td>0</td>\n",
    "</tr>\n",
    "<tr>\n",
    "<td>2</td>\n",
    "<td>0</td>\n",
    "<td>0</td>\n",
    "<td>1</td>\n",
    "<td>0</td>\n",
    "<td>0</td>\n",
    "</tr>\n",
    "<tr>\n",
    "<td>3</td>\n",
    "<td>0</td>\n",
    "<td>0</td>\n",
    "<td>0</td>\n",
    "<td>1</td>\n",
    "<td>1</td>\n",
    "</tr>\n",
    "<tr>\n",
    "<td>4</td>\n",
    "<td>1</td>\n",
    "<td>1</td>\n",
    "<td>1</td>\n",
    "<td>0</td>\n",
    "<td>0</td>\n",
    "</tr>\n",
    "<tr>\n",
    "<td>5</td>\n",
    "<td>0</td>\n",
    "<td>1</td>\n",
    "<td>0</td>\n",
    "<td>0</td>\n",
    "<td>0</td>\n",
    "</tr>\n",
    "</table>"
   ]
  },
  {
   "cell_type": "code",
   "execution_count": null,
   "metadata": {},
   "outputs": [],
   "source": [
    "import pandas\n",
    "import numpy\n",
    "\n",
    "\n",
    "# please visit 'https://rasbt.github.io/mlxtend/user_guide/frequent_patterns/association_rules/' for more information\n",
    "from mlxtend.preprocessing import OnehotTransactions\n",
    "from mlxtend.frequent_patterns import apriori\n",
    "from mlxtend.frequent_patterns import association_rules\n",
    "\n",
    "\n",
    "pandas.set_option('display.max_rows', 10)\n",
    "pandas.set_option('display.max_columns', 10)\n",
    "\n",
    "# set a fixed seed for numpy pseudo random generator\n",
    "numpy.random.seed(100)"
   ]
  },
  {
   "cell_type": "code",
   "execution_count": null,
   "metadata": {},
   "outputs": [],
   "source": [
    "data = pandas.read_excel(\"./datasets/Online Retail.xlsx\", \n",
    "                         parse_dates=['InvoiceDate'])"
   ]
  },
  {
   "cell_type": "code",
   "execution_count": null,
   "metadata": {},
   "outputs": [],
   "source": [
    "%timeit data.head()\n",
    "data.head()"
   ]
  },
  {
   "cell_type": "code",
   "execution_count": null,
   "metadata": {},
   "outputs": [],
   "source": [
    "data.columns, data.shape"
   ]
  },
  {
   "cell_type": "code",
   "execution_count": null,
   "metadata": {},
   "outputs": [],
   "source": [
    "# tell me how many unique customers do we have?\n",
    "groupby_result = data.groupby(by=[\"CustomerID\"])"
   ]
  },
  {
   "cell_type": "code",
   "execution_count": null,
   "metadata": {},
   "outputs": [],
   "source": [
    "# users columnar count information\n",
    "groupby_result.count().reset_index()"
   ]
  },
  {
   "cell_type": "code",
   "execution_count": null,
   "metadata": {},
   "outputs": [],
   "source": [
    "# get the groupby result for a particular userId\n",
    "groupby_result.groups[12347.0]"
   ]
  },
  {
   "cell_type": "code",
   "execution_count": null,
   "metadata": {},
   "outputs": [],
   "source": [
    "data[data.CustomerID == 12347.0]"
   ]
  },
  {
   "cell_type": "code",
   "execution_count": null,
   "metadata": {},
   "outputs": [],
   "source": [
    "groupby_result = data.groupby(by=[\"StockCode\"])\n",
    "product_id = groupby_result.count().reset_index()['StockCode'].astype(\"str\")\n",
    "\n",
    "# let's keep only products with 'StockCode' equal to 5\n",
    "def is_valid_productid(x):\n",
    "    \n",
    "#     def is_int(x):\n",
    "#         try:\n",
    "#             int(x)\n",
    "#         except:\n",
    "#             return False\n",
    "#         return True\n",
    "    \n",
    "#     if is_int(x):\n",
    "#         return len(x) == 5\n",
    "#     else:\n",
    "#         return False\n",
    "    return True\n",
    "    \n",
    "# is_valid_productid('84625A')\n",
    "selcted_products = product_id[product_id.apply(is_valid_productid)]\n",
    "\n",
    "# I\n",
    "selcted_products"
   ]
  },
  {
   "cell_type": "code",
   "execution_count": null,
   "metadata": {},
   "outputs": [],
   "source": [
    "data['StockCode'] = data['StockCode'].astype(\"str\")\n",
    "raw_transactions = data[data['StockCode'].isin(selcted_products)]\n",
    "raw_transactions.reset_index(inplace=True)\n",
    "# raw_transactions"
   ]
  },
  {
   "cell_type": "code",
   "execution_count": null,
   "metadata": {},
   "outputs": [],
   "source": [
    "# transaction set(D)\n",
    "transaction_set = []\n",
    "counter = 0\n",
    "for key, value in raw_transactions.groupby(by=[\"InvoiceNo\"]):\n",
    "    if counter < 10:\n",
    "        print(key, len(value['StockCode']))\n",
    "        counter += 1\n",
    "        \n",
    "    # add the data to transaction set(D)\n",
    "    transaction_set.append(list(pandas.unique(value['StockCode'])))"
   ]
  },
  {
   "cell_type": "code",
   "execution_count": null,
   "metadata": {},
   "outputs": [],
   "source": [
    "# let's see ...\n",
    "transaction_id = 0\n",
    "for transaction in transaction_set[0:5]:\n",
    "    print(\"transaction_id = %s, items = %s\\r\" % \n",
    "          (transaction_id, transaction))\n",
    "    transaction_id += 1"
   ]
  },
  {
   "cell_type": "code",
   "execution_count": null,
   "metadata": {},
   "outputs": [],
   "source": [
    "# I and D\n",
    "selcted_products[0:2], transaction_set[0:2]"
   ]
  },
  {
   "cell_type": "markdown",
   "metadata": {},
   "source": [
    "# Additional Terminology\n",
    "\n",
    "Let ${\\displaystyle X}$ be an itemset, ${\\displaystyle X\\Rightarrow Y}$ an association rule and ${\\displaystyle T}$ a set of transactions of a given database.\n",
    "\n",
    "### Support\n",
    "Support is an indication of how frequently the itemset appears in the dataset.\n",
    "\n",
    "The support of ${\\displaystyle X}$ with respect to ${\\displaystyle T}$ is defined as the proportion of transactions ${\\displaystyle t}$ in the dataset which contains the itemset ${\\displaystyle X}$.\n",
    "\n",
    "${\\displaystyle \\mathrm {supp} (X)={\\frac {|\\{t\\in T;X\\subseteq t\\}|}{|T|}}}$\n",
    "\n",
    "\n",
    "### Confidence\n",
    "Confidence is an indication of how often the rule has been found to be true.\n",
    "\n",
    "The confidence value of a rule, ${\\displaystyle X\\Rightarrow Y}$, with respect to a set of transactions ${\\displaystyle T}$, is the proportion of the transactions that contains ${\\displaystyle X}$ which also contains ${\\displaystyle Y}$.\n",
    "\n",
    "Confidence is defined as:\n",
    "\n",
    "${\\displaystyle \\mathrm {conf} (X\\Rightarrow Y)=\\mathrm {supp} (X\\cup Y)/\\mathrm {supp} (X)}$\n",
    "\n",
    "### Lift(Interest)\n",
    "The lift of a rule is defined as:\n",
    "\n",
    "${\\displaystyle \\mathrm {lift} (X\\Rightarrow Y)={\\frac {\\mathrm {supp} (X\\cup Y)}{\\mathrm {supp} (X)\\times \\mathrm {supp} (Y)}}}$\n",
    "\n",
    "or the ratio of the observed support to that expected if X and Y were independent.\n",
    "\n",
    "### Conviction\n",
    "The conviction of a rule is defined as ${\\displaystyle \\mathrm {conv} (X\\Rightarrow Y)={\\frac {1-\\mathrm {supp} (Y)}{1-\\mathrm {conf} (X\\Rightarrow Y)}}}$.\n",
    "\n",
    "Conviction can be interpreted as the ratio of the expected frequency that X occurs without Y (that is to say, the frequency that the rule makes an incorrect prediction) if X and Y were independent divided by the observed frequency of incorrect predictions.\n",
    "\n",
    "### There are more!"
   ]
  },
  {
   "cell_type": "markdown",
   "metadata": {},
   "source": [
    "# Association Rule Mining Process\n",
    "Association rules are usually required to satisfy a user-specified **minimum support** and a user-specified **minimum confidence** at the same time. Association rule generation is usually split up into two separate steps:\n",
    "\n",
    "* A minimum support threshold is applied to find all frequent itemsets in a database.\n",
    "* A minimum confidence constraint is applied to these frequent itemsets in order to form rules.\n",
    "\n",
    "While the second step is straightforward, the first step needs more attention.\n",
    "\n",
    "**Brute-force search for optimal itemsets is not computationaly feasble most of the time!(power set of I has ${\\displaystyle \\mathrm 2^{|I|} - 1}$ members!(excluding the empty set))**"
   ]
  },
  {
   "cell_type": "code",
   "execution_count": null,
   "metadata": {},
   "outputs": [],
   "source": [
    "# let's mine!\n",
    "new_transaction_set = [i for i in transaction_set if len(i) > 2]\n",
    "margin = len(new_transaction_set)\n",
    "oht = OnehotTransactions()\n",
    "oht_ary = oht.fit_transform(new_transaction_set[0:margin])\n",
    "df = pandas.DataFrame(oht_ary, columns=oht.columns_)\n",
    "frequent_itemsets = apriori(df, min_support=0.04, use_colnames=True)\n",
    "\n",
    "# show me the good stuff please!\n",
    "frequent_itemsets"
   ]
  },
  {
   "cell_type": "code",
   "execution_count": null,
   "metadata": {},
   "outputs": [],
   "source": [
    "# find rules with a particular 'confidence' \n",
    "association_rules(frequent_itemsets, metric=\"confidence\", min_threshold=0.001)"
   ]
  },
  {
   "cell_type": "code",
   "execution_count": null,
   "metadata": {},
   "outputs": [],
   "source": [
    "# find rules with a particular 'lift' \n",
    "association_rules(frequent_itemsets, metric=\"lift\", min_threshold=1.1)"
   ]
  },
  {
   "cell_type": "code",
   "execution_count": null,
   "metadata": {},
   "outputs": [],
   "source": [
    "new_transaction_set"
   ]
  }
 ],
 "metadata": {
  "kernelspec": {
   "display_name": "Python 3",
   "language": "python",
   "name": "python3"
  },
  "language_info": {
   "codemirror_mode": {
    "name": "ipython",
    "version": 3
   },
   "file_extension": ".py",
   "mimetype": "text/x-python",
   "name": "python",
   "nbconvert_exporter": "python",
   "pygments_lexer": "ipython3",
   "version": "3.6.3"
  }
 },
 "nbformat": 4,
 "nbformat_minor": 2
}

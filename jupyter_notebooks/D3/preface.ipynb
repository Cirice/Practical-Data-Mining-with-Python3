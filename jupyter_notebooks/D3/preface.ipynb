{
 "cells": [
  {
   "cell_type": "markdown",
   "metadata": {},
   "source": [
    "### Dataset repositories\n",
    "\n",
    "Data used for this section are from following sources:\n",
    "\n",
    "* [UCI MLP](http://archive.ics.uci.edu/ml/datasets.html)\n",
    "* [Kaggle](https://www.kaggle.com)\n",
    "\n",
    "\n",
    "\n",
    "### Datasets are as follows:\n",
    "\n",
    "#### Anomaly Detection Dataset\n",
    "   * [Credit Card Fraud](https://www.kaggle.com/dalpozz/creditcardfraud)   \n",
    "   \n",
    "#### Association Rule Mining Dataset\n",
    "   * [Online Retail](http://archive.ics.uci.edu/ml/datasets/online+retail)   \n",
    "\n",
    "### Jupyter notebook files:\n",
    "   * [Anomaly Detection](anomaly_detection.ipynb)\n",
    "   * [Association Rule Mining](association_rules.ipynb)\n",
    "   \n",
    "### Python3 packages:\n",
    "   * [Package List(requirements.txt)](requirements.txt)\n",
    "   ```Bash\n",
    "# Save 'requirements.txt' to a path(like into your desktop)\n",
    "# then issue the follwing command(everything after \\$\\) in that path\n",
    "$ pip3 install -U -r requirements.txt\n",
    "   ```"
   ]
  }
 ],
 "metadata": {
  "kernelspec": {
   "display_name": "Python 3",
   "language": "python",
   "name": "python3"
  },
  "language_info": {
   "codemirror_mode": {
    "name": "ipython",
    "version": 3
   },
   "file_extension": ".py",
   "mimetype": "text/x-python",
   "name": "python",
   "nbconvert_exporter": "python",
   "pygments_lexer": "ipython3",
   "version": "3.6.3"
  }
 },
 "nbformat": 4,
 "nbformat_minor": 2
}

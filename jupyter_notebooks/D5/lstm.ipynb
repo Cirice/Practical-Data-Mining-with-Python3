{
 "cells": [
  {
   "cell_type": "code",
   "execution_count": null,
   "metadata": {},
   "outputs": [],
   "source": [
    "import pandas\n",
    "import numpy\n",
    "\n",
    "from keras.layers.core import Dense, Activation, Dropout, Flatten\n",
    "from keras.layers.recurrent import LSTM\n",
    "from keras.models import Sequential\n",
    "\n",
    "pandas.set_option('display.max_rows', 10)\n",
    "pandas.set_option('display.max_columns', 10)\n",
    "\n",
    "# set a fixed seed for numpy pseudo random generator\n",
    "numpy.random.seed(100)"
   ]
  },
  {
   "cell_type": "code",
   "execution_count": null,
   "metadata": {},
   "outputs": [],
   "source": [
    "data = pandas.read_csv(\"./datasets/gold_data_20170407to20170810.csv\", parse_dates=['date'])"
   ]
  },
  {
   "cell_type": "code",
   "execution_count": null,
   "metadata": {},
   "outputs": [],
   "source": [
    "data.head()"
   ]
  },
  {
   "cell_type": "code",
   "execution_count": null,
   "metadata": {},
   "outputs": [],
   "source": [
    "data.columns"
   ]
  },
  {
   "cell_type": "code",
   "execution_count": null,
   "metadata": {},
   "outputs": [],
   "source": [
    "target = 'iran_gold.close'"
   ]
  },
  {
   "cell_type": "code",
   "execution_count": null,
   "metadata": {},
   "outputs": [],
   "source": [
    "train_percent = 0.8\n",
    "lag_step = 1\n",
    "margin = int(train_percent*data.shape[0])\n",
    "new_data = pandas.DataFrame({\"x\": [i for i in data[target]],\n",
    "                             \"y\": [i for i in data[target].shift(lag_step)]})\n",
    "new_data.dropna(inplace=True)\n",
    "train = new_data.iloc[0:margin]\n",
    "test = new_data.iloc[margin:]"
   ]
  },
  {
   "cell_type": "code",
   "execution_count": null,
   "metadata": {},
   "outputs": [],
   "source": [
    "train.head()\n",
    "test.head()"
   ]
  },
  {
   "cell_type": "code",
   "execution_count": null,
   "metadata": {},
   "outputs": [],
   "source": [
    "def load_data(pdf, mem=100):\n",
    "    \n",
    "    docX, docY = [], []\n",
    "    for i in range(len(pdf)-mem):\n",
    "        docX.append(pdf.iloc[i:i+mem].as_matrix())\n",
    "        docY.append(pdf.iloc[i+mem].as_matrix())\n",
    "        \n",
    "    return numpy.array(docX), numpy.array(docY)\n",
    "\n",
    "X_train, Y_train = load_data(train[0:1000])\n",
    "X_test, Y_test = load_data(test[0:1000])\n",
    "Y_train"
   ]
  },
  {
   "cell_type": "code",
   "execution_count": null,
   "metadata": {},
   "outputs": [],
   "source": [
    "in_out_neurons = (None, 2)\n",
    "hidden_neurons = 100\n",
    "\n",
    "model = Sequential()\n",
    "model.add(LSTM(hidden_neurons, input_shape=in_out_neurons, return_sequences=False))\n",
    "model.add(Dropout(0.2))\n",
    "model.add(Dense(in_out_neurons[1], input_dim=hidden_neurons))\n",
    "model.add(Activation(\"linear\"))\n",
    "model.compile(loss=\"mean_squared_error\", optimizer=\"rmsprop\")\n",
    "model.fit(X_train, Y_train, batch_size=500, epochs=10, validation_split=0.1)\n",
    "\n",
    "pred = model.predict(X_test)\n",
    "y_hat = pandas.DataFrame(pred, columns=['t-1', 't'])\n",
    "y = pandas.DataFrame(Y_test, columns=['t-1', 't'])"
   ]
  },
  {
   "cell_type": "code",
   "execution_count": null,
   "metadata": {},
   "outputs": [],
   "source": [
    "from bokeh.layouts import gridplot\n",
    "from bokeh.plotting import figure, show, output_file"
   ]
  },
  {
   "cell_type": "code",
   "execution_count": null,
   "metadata": {},
   "outputs": [],
   "source": [
    "p1 = figure(x_axis_type=\"datetime\", title=\"Gold High Prices\")\n",
    "p1.grid.grid_line_alpha = 0.3\n",
    "p1.xaxis.axis_label = 'Date'\n",
    "p1.yaxis.axis_label = 'Price'\n",
    "\n",
    "p1.line(y_hat.index, y_hat['t'], color='#A6CEE3', legend='y_hat')\n",
    "p1.line(y.index, y['t'], color='#B2DF8A', legend='y')\n",
    "p1.legend.location = \"top_left\"\n",
    "\n",
    "output_file(\"/tmp/index.html\", title=\"Iran Gold[High] Price Prediction\")\n",
    "\n",
    "show(gridplot([[p1]], plot_width=600, plot_height=600, sizing_mode='stretch_both'))"
   ]
  }
 ],
 "metadata": {
  "kernelspec": {
   "display_name": "Python 3",
   "language": "python",
   "name": "python3"
  },
  "language_info": {
   "codemirror_mode": {
    "name": "ipython",
    "version": 3
   },
   "file_extension": ".py",
   "mimetype": "text/x-python",
   "name": "python",
   "nbconvert_exporter": "python",
   "pygments_lexer": "ipython3",
   "version": "3.6.3"
  }
 },
 "nbformat": 4,
 "nbformat_minor": 2
}

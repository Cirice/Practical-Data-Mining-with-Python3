{
 "cells": [
  {
   "cell_type": "markdown",
   "metadata": {},
   "source": [
    "# Capturing Public Tweet Stream\n",
    "You can easily collect public tweets from Twitter.com using its api. I used [Tweetpy](https://github.com/tweepy/tweepy) Python package to connect to Twitter api. I store the captured real time tweet stream for \\#btc inside a [RethinkDB](https://www.rethinkdb.com).\n",
    "\n",
    "### Twitter API\n",
    "In order to use twitter api we need a twitter account (obvoiusly) and you also need to create a twitter app then add an access token for that app to access twitter api via your account. Plese see the [twitter developer docs](https://developer.twitter.com/en/docs/basics/authentication/overview) for the details.\n",
    "\n",
    "### RethinkDB:\n",
    "Please visit [RethinkDB](https://www.rethinkdb.com) for more instruction on how to install RethinkDB on your machine.\n"
   ]
  },
  {
   "cell_type": "code",
   "execution_count": null,
   "metadata": {},
   "outputs": [],
   "source": [
    "import io\n",
    "import json\n",
    "import pandas\n",
    "import numpy\n",
    "import rethinkdb\n",
    "\n",
    "# need this for using pandas built-in plotting facility\n",
    "import matplotlib.pyplot as plt\n",
    "%matplotlib inline\n",
    "\n",
    "\n",
    "pandas.set_option('display.max_rows', 10)\n",
    "pandas.set_option('display.max_columns', 10)\n",
    "\n",
    "# set a fixed seed for numpy pseudo random generator\n",
    "numpy.random.seed(100)"
   ]
  },
  {
   "cell_type": "code",
   "execution_count": null,
   "metadata": {},
   "outputs": [],
   "source": [
    "from tweepy.streaming import StreamListener\n",
    "from tweepy import OAuthHandler\n",
    "from tweepy import Stream"
   ]
  },
  {
   "cell_type": "code",
   "execution_count": null,
   "metadata": {},
   "outputs": [],
   "source": [
    "# Go to http://apps.twitter.com and create an app.\n",
    "# The consumer key and secret will be generated for you after\n",
    "consumer_key=\"uzfPrabmST5MdFLbksUAf5yMI\"\n",
    "consumer_secret=\"zh23hAs0wky3OkBEV9ze10yjNtFS5BxU7pE1Ge3rhO0YCMD26Z\"\n",
    "\n",
    "# After the step above, you will be redirected to your app's page.\n",
    "# Create an access token under the the \"Your access token\" section\n",
    "access_token=\"2257778408-wyFihaYS2ff3aGGRAk8KMLIfcWmVC7DqTCAyymO\"\n",
    "access_token_secret=\"snFXXXZSb21i5gPXQfcp7px9LK5wbrh3jmOBiFlMG9VE2\""
   ]
  },
  {
   "cell_type": "code",
   "execution_count": null,
   "metadata": {},
   "outputs": [],
   "source": [
    "class BaseStreamListener(StreamListener):\n",
    "    \"\"\"This is the base class for tweet stream listener.\"\"\"\n",
    "    def on_error(self, status):\n",
    "        print(status)\n",
    "    \n",
    "\n",
    "class to_stdout_listener(BaseStreamListener):\n",
    "    \"\"\" A listener handles tweets that are received from the stream.\n",
    "    This is a basic listener that just prints received tweets to stdout.\n",
    "    \"\"\"\n",
    "    def on_data(self, data):\n",
    "        print(data)\n",
    "        return True\n",
    "\n",
    "class to_file_listener(BaseStreamListener):\n",
    "    \"\"\" A listener handles tweets that are received from the stream.\n",
    "    This is a basic listener that saves the received tweets inside a directory.\n",
    "    \"\"\"\n",
    "    save_dir = \"./datasets/tweets/\"\n",
    "    \n",
    "    def _dump(self, data):\n",
    "        data = json.loads(data)\n",
    "        file_name = data['id_str']+\".json\"\n",
    "        with io.open(self.save_dir+file_name, \"w\") as tweet_file:\n",
    "            json.dump(data, tweet_file)\n",
    "        print(\"written tweet data %s to file-system\" % file_name)\n",
    "            \n",
    "    def on_data(self, data):\n",
    "        try:\n",
    "            self._dump(data)\n",
    "        except:\n",
    "            pass\n",
    "        return True\n",
    "    \n",
    "class to_rethinkdb_listener(BaseStreamListener):\n",
    "    \"\"\" A listener handles tweets that are received from the stream.\n",
    "    This is a basic listener that saves the received tweets to a rethinkdb instance.\n",
    "    \"\"\"\n",
    "    host = \"localhost\"\n",
    "    port = 28015\n",
    "    db = \"tweet_stream\"\n",
    "    table = \"btc\"\n",
    "    create_db = False\n",
    "    \n",
    "    def make_connexion(self):\n",
    "        # don't forget to start rethinkdb 'cd && rethinkdb --bind all' first!\n",
    "        self.connexion = rethinkdb.connect(self.host, self.port)\n",
    "    \n",
    "    def close_connexion(self):\n",
    "        self.connexion.close()\n",
    "    \n",
    "    def on_data(self, data):\n",
    "            \n",
    "        if self.create_db:\n",
    "            \n",
    "            try:\n",
    "                rethinkdb.db_drop(self.db).run(self.connexion)\n",
    "            except:\n",
    "                pass\n",
    "            \n",
    "            rethinkdb.db_create(self.db).run(self.connexion)\n",
    "            rethinkdb.db(self.db).table_create(self.table).run(self.connexion)\n",
    "        \n",
    "        try:\n",
    "            tweet_data = json.loads(data)\n",
    "            rethinkdb.db(self.db).table(self.table).insert(tweet_data).run(self.connexion)\n",
    "        except:\n",
    "            pass\n",
    "        else:\n",
    "            print(\"written tweet data %s to rethinkdb\" % tweet_data['id_str'])\n",
    "        \n",
    "        return True\n",
    "    \n",
    "def make_stream_pipe(consumer_key, consumer_secret,\n",
    "                    access_token, access_token_secret, listener):\n",
    "    \"\"\"Make a file-stream like object to read the tweets from.\"\"\"\n",
    "    auth = OAuthHandler(consumer_key, consumer_secret)\n",
    "    auth.set_access_token(access_token, access_token_secret)\n",
    "    return Stream(auth, listener)"
   ]
  },
  {
   "cell_type": "code",
   "execution_count": null,
   "metadata": {},
   "outputs": [],
   "source": [
    "# listen to the tweet stream ... and print out the tweets to **stdout**\n",
    "listener = to_stdout_listener()\n",
    "stream = make_stream_pipe(consumer_key, consumer_secret,\n",
    "                    access_token, access_token_secret, listener)\n",
    "\n",
    "stream.filter(track=['btc'])"
   ]
  },
  {
   "cell_type": "code",
   "execution_count": null,
   "metadata": {},
   "outputs": [],
   "source": [
    "# listen to the tweet stream ... and write out the tweets to the path **'./datasets/tweets/'**\n",
    "listener = to_file_listener()\n",
    "stream = make_stream_pipe(consumer_key, consumer_secret,\n",
    "                    access_token, access_token_secret, listener)\n",
    "\n",
    "stream.filter(track=['btc'])"
   ]
  },
  {
   "cell_type": "code",
   "execution_count": null,
   "metadata": {},
   "outputs": [],
   "source": [
    "# listen to the tweet stream ... and push the tweets into a rethinkdb table\n",
    "listener = to_rethinkdb_listener()\n",
    "listener.create_db = False\n",
    "listener.make_connexion()\n",
    "\n",
    "stream = make_stream_pipe(consumer_key, consumer_secret,\n",
    "                    access_token, access_token_secret, listener)\n",
    "\n",
    "# open up 'localhost:8080' on the machine where rethinkdb is running to inspect the data\n",
    "# sample query 'r.db(\"tweet_stream\").table(\"btc\")'\n",
    "stream.filter(track=['btc'])"
   ]
  },
  {
   "cell_type": "code",
   "execution_count": null,
   "metadata": {},
   "outputs": [],
   "source": [
    "# close the stream\n",
    "stream.disconnect()"
   ]
  },
  {
   "cell_type": "code",
   "execution_count": null,
   "metadata": {},
   "outputs": [],
   "source": [
    "if isinstance(listener, to_rethinkdb_listener):\n",
    "    listener.close_connexion()"
   ]
  }
 ],
 "metadata": {
  "kernelspec": {
   "display_name": "Python 3",
   "language": "python",
   "name": "python3"
  },
  "language_info": {
   "codemirror_mode": {
    "name": "ipython",
    "version": 3
   },
   "file_extension": ".py",
   "mimetype": "text/x-python",
   "name": "python",
   "nbconvert_exporter": "python",
   "pygments_lexer": "ipython3",
   "version": "3.6.3"
  }
 },
 "nbformat": 4,
 "nbformat_minor": 2
}
